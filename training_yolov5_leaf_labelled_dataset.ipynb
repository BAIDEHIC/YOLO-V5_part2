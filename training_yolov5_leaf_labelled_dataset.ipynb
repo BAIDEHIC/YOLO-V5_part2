{
  "nbformat": 4,
  "nbformat_minor": 0,
  "metadata": {
    "colab": {
      "provenance": [],
      "collapsed_sections": []
    },
    "kernelspec": {
      "name": "python3",
      "display_name": "Python 3"
    },
    "language_info": {
      "name": "python"
    },
    "accelerator": "GPU"
  },
  "cells": [
    {
      "cell_type": "markdown",
      "source": [
        "# Training YOLOv5 custom dataset with ease\n",
        "\n",
        "Check the full explanation on medium:\n",
        "\n",
        "https://medium.com/mlearning-ai/training-yolov5-custom-dataset-with-ease-e4f6272148ad"
      ],
      "metadata": {
        "id": "Xoe1W0HiQ1t4"
      }
    },
    {
      "cell_type": "code",
      "execution_count": null,
      "metadata": {
        "colab": {
          "base_uri": "https://localhost:8080/"
        },
        "id": "oAopQ0tumV-7",
        "outputId": "855440cd-5dc9-4665-8379-151fe917d9ef"
      },
      "outputs": [
        {
          "output_type": "stream",
          "name": "stderr",
          "text": [
            "YOLOv5 🚀 v6.2-178-g799e3d0 Python-3.7.14 torch-1.12.1+cu113 CUDA:0 (Tesla T4, 15110MiB)\n"
          ]
        },
        {
          "output_type": "stream",
          "name": "stdout",
          "text": [
            "Setup complete ✅ (2 CPUs, 12.7 GB RAM, 37.7/78.2 GB disk)\n"
          ]
        }
      ],
      "source": [
        "!git clone https://github.com/ultralytics/yolov5  # clone\n",
        "%cd yolov5\n",
        "%pip install -qr requirements.txt  # install\n",
        "\n",
        "import torch\n",
        "from yolov5 import utils\n",
        "display = utils.notebook_init() "
      ]
    },
    {
      "cell_type": "code",
      "source": [
        "%cd .."
      ],
      "metadata": {
        "colab": {
          "base_uri": "https://localhost:8080/"
        },
        "id": "1X-vx8NPIkzE",
        "outputId": "25639084-1d85-4538-b241-4ab0e05f673c"
      },
      "execution_count": null,
      "outputs": [
        {
          "output_type": "stream",
          "name": "stdout",
          "text": [
            "/content\n"
          ]
        }
      ]
    },
    {
      "cell_type": "code",
      "source": [
        "import shutil\n",
        "import os, sys\n",
        "\n",
        "zip_file = \"archive.zip\"\n",
        "\n",
        "if os.path.isfile(zip_file):\n",
        "  shutil.unpack_archive(zip_file, \"D\")\n",
        "else:\n",
        "  print(zip_file + \" not found\")"
      ],
      "metadata": {
        "id": "-9fxWlH1nTUz"
      },
      "execution_count": null,
      "outputs": []
    },
    {
      "cell_type": "code",
      "source": [
        "import os, shutil, random\n",
        "\n",
        "# preparing the folder structure\n",
        "\n",
        "full_data_path = '/content/D/Victorytomato/'\n",
        "extension_allowed = '.JPG'\n",
        "split_percentage = 90\n",
        "\n",
        "images_path = 'D/images/'\n",
        "if os.path.exists(images_path):\n",
        "    shutil.rmtree(images_path)\n",
        "os.mkdir(images_path)\n",
        "    \n",
        "labels_path = 'D/labels/'\n",
        "if os.path.exists(labels_path):\n",
        "    shutil.rmtree(labels_path)\n",
        "os.mkdir(labels_path)\n",
        "    \n",
        "training_images_path = images_path + 'training/'\n",
        "validation_images_path = images_path + 'validation/'\n",
        "training_labels_path = labels_path + 'training/'\n",
        "validation_labels_path = labels_path +'validation/'\n",
        "    \n",
        "os.mkdir(training_images_path)\n",
        "os.mkdir(validation_images_path)\n",
        "os.mkdir(training_labels_path)\n",
        "os.mkdir(validation_labels_path)\n",
        "\n",
        "files = []\n",
        "\n",
        "ext_len = len(extension_allowed)\n",
        "\n",
        "for r, d, f in os.walk(full_data_path):\n",
        "    for file in f:\n",
        "        if file.endswith(extension_allowed):\n",
        "            strip = file[0:len(file) - ext_len]      \n",
        "            files.append(strip)\n",
        "\n",
        "random.shuffle(files)\n",
        "\n",
        "size = len(files)                   \n",
        "\n",
        "split = int(split_percentage * size / 100)\n",
        "\n",
        "print(\"copying training data\")\n",
        "for i in range(split):\n",
        "    strip = files[i]\n",
        "                         \n",
        "    image_file = strip + extension_allowed\n",
        "    src_image = full_data_path + image_file\n",
        "    shutil.copy(src_image, training_images_path) \n",
        "                         \n",
        "    annotation_file = strip + '.txt'\n",
        "    src_label = full_data_path + annotation_file\n",
        "    shutil.copy(src_label, training_labels_path) \n",
        "\n",
        "print(\"copying validation data\")\n",
        "for i in range(split, size):\n",
        "    strip = files[i]\n",
        "                         \n",
        "    image_file = strip + extension_allowed\n",
        "    src_image = full_data_path + image_file\n",
        "    shutil.copy(src_image, validation_images_path) \n",
        "                         \n",
        "    annotation_file = strip + '.txt'\n",
        "    src_label = full_data_path + annotation_file\n",
        "    shutil.copy(src_label, validation_labels_path) \n",
        "\n",
        "print(\"finished\")"
      ],
      "metadata": {
        "colab": {
          "base_uri": "https://localhost:8080/"
        },
        "id": "3Li_d6M4nQ_M",
        "outputId": "0460350a-d42a-4981-cbef-d642aedd34a5"
      },
      "execution_count": null,
      "outputs": [
        {
          "output_type": "stream",
          "name": "stdout",
          "text": [
            "copying training data\n",
            "copying validation data\n",
            "finished\n"
          ]
        }
      ]
    },
    {
      "cell_type": "code",
      "source": [
        "f = open(\"dataset.yaml\", \"a\")\n",
        "\n",
        "f.write(\"train: /content/D/images/training/\\n\")\n",
        "f.write(\"val: /content/D/images/validation/\\n\")\n",
        "f.write(\"nc: 2\\n\")\n",
        "f.write(\"names: ['with leaf', 'without leaf']\\n\")\n",
        "f.close()"
      ],
      "metadata": {
        "id": "BY9imuWyJo3S"
      },
      "execution_count": null,
      "outputs": []
    },
    {
      "cell_type": "code",
      "source": [
        "%cd yolov5\n",
        "!python train.py --img 640 --batch 16 --epochs 5 --data ../dataset.yaml --weights yolov5s.pt"
      ],
      "metadata": {
        "colab": {
          "base_uri": "https://localhost:8080/"
        },
        "id": "412Aa8kIs0mi",
        "outputId": "a1a01a51-311c-463f-f0f7-5b5a3a54f270"
      },
      "execution_count": null,
      "outputs": [
        {
          "output_type": "stream",
          "name": "stdout",
          "text": [
            "[Errno 2] No such file or directory: 'yolov5'\n",
            "/content/yolov5\n",
            "\u001b[34m\u001b[1mtrain: \u001b[0mweights=yolov5s.pt, cfg=, data=../dataset.yaml, hyp=data/hyps/hyp.scratch-low.yaml, epochs=5, batch_size=16, imgsz=640, rect=False, resume=False, nosave=False, noval=False, noautoanchor=False, noplots=False, evolve=None, bucket=, cache=None, image_weights=False, device=, multi_scale=False, single_cls=False, optimizer=SGD, sync_bn=False, workers=8, project=runs/train, name=exp, exist_ok=False, quad=False, cos_lr=False, label_smoothing=0.0, patience=100, freeze=[0], save_period=-1, seed=0, local_rank=-1, entity=None, upload_dataset=False, bbox_interval=-1, artifact_alias=latest\n",
            "\u001b[34m\u001b[1mgithub: \u001b[0mup to date with https://github.com/ultralytics/yolov5 ✅\n",
            "YOLOv5 🚀 v6.2-178-g799e3d0 Python-3.7.14 torch-1.12.1+cu113 CUDA:0 (Tesla T4, 15110MiB)\n",
            "\n",
            "\u001b[34m\u001b[1mhyperparameters: \u001b[0mlr0=0.01, lrf=0.01, momentum=0.937, weight_decay=0.0005, warmup_epochs=3.0, warmup_momentum=0.8, warmup_bias_lr=0.1, box=0.05, cls=0.5, cls_pw=1.0, obj=1.0, obj_pw=1.0, iou_t=0.2, anchor_t=4.0, fl_gamma=0.0, hsv_h=0.015, hsv_s=0.7, hsv_v=0.4, degrees=0.0, translate=0.1, scale=0.5, shear=0.0, perspective=0.0, flipud=0.0, fliplr=0.5, mosaic=1.0, mixup=0.0, copy_paste=0.0\n",
            "\u001b[34m\u001b[1mWeights & Biases: \u001b[0mrun 'pip install wandb' to automatically track and visualize YOLOv5 🚀 runs in Weights & Biases\n",
            "\u001b[34m\u001b[1mClearML: \u001b[0mrun 'pip install clearml' to automatically track, visualize and remotely train YOLOv5 🚀 in ClearML\n",
            "\u001b[34m\u001b[1mComet: \u001b[0mrun 'pip install comet_ml' to automatically track and visualize YOLOv5 🚀 runs in Comet\n",
            "\u001b[34m\u001b[1mTensorBoard: \u001b[0mStart with 'tensorboard --logdir runs/train', view at http://localhost:6006/\n",
            "Overriding model.yaml nc=80 with nc=2\n",
            "\n",
            "                 from  n    params  module                                  arguments                     \n",
            "  0                -1  1      3520  models.common.Conv                      [3, 32, 6, 2, 2]              \n",
            "  1                -1  1     18560  models.common.Conv                      [32, 64, 3, 2]                \n",
            "  2                -1  1     18816  models.common.C3                        [64, 64, 1]                   \n",
            "  3                -1  1     73984  models.common.Conv                      [64, 128, 3, 2]               \n",
            "  4                -1  2    115712  models.common.C3                        [128, 128, 2]                 \n",
            "  5                -1  1    295424  models.common.Conv                      [128, 256, 3, 2]              \n",
            "  6                -1  3    625152  models.common.C3                        [256, 256, 3]                 \n",
            "  7                -1  1   1180672  models.common.Conv                      [256, 512, 3, 2]              \n",
            "  8                -1  1   1182720  models.common.C3                        [512, 512, 1]                 \n",
            "  9                -1  1    656896  models.common.SPPF                      [512, 512, 5]                 \n",
            " 10                -1  1    131584  models.common.Conv                      [512, 256, 1, 1]              \n",
            " 11                -1  1         0  torch.nn.modules.upsampling.Upsample    [None, 2, 'nearest']          \n",
            " 12           [-1, 6]  1         0  models.common.Concat                    [1]                           \n",
            " 13                -1  1    361984  models.common.C3                        [512, 256, 1, False]          \n",
            " 14                -1  1     33024  models.common.Conv                      [256, 128, 1, 1]              \n",
            " 15                -1  1         0  torch.nn.modules.upsampling.Upsample    [None, 2, 'nearest']          \n",
            " 16           [-1, 4]  1         0  models.common.Concat                    [1]                           \n",
            " 17                -1  1     90880  models.common.C3                        [256, 128, 1, False]          \n",
            " 18                -1  1    147712  models.common.Conv                      [128, 128, 3, 2]              \n",
            " 19          [-1, 14]  1         0  models.common.Concat                    [1]                           \n",
            " 20                -1  1    296448  models.common.C3                        [256, 256, 1, False]          \n",
            " 21                -1  1    590336  models.common.Conv                      [256, 256, 3, 2]              \n",
            " 22          [-1, 10]  1         0  models.common.Concat                    [1]                           \n",
            " 23                -1  1   1182720  models.common.C3                        [512, 512, 1, False]          \n",
            " 24      [17, 20, 23]  1     18879  models.yolo.Detect                      [2, [[10, 13, 16, 30, 33, 23], [30, 61, 62, 45, 59, 119], [116, 90, 156, 198, 373, 326]], [128, 256, 512]]\n",
            "Model summary: 214 layers, 7025023 parameters, 7025023 gradients, 16.0 GFLOPs\n",
            "\n",
            "Transferred 343/349 items from yolov5s.pt\n",
            "\u001b[34m\u001b[1mAMP: \u001b[0mchecks passed ✅\n",
            "\u001b[34m\u001b[1moptimizer:\u001b[0m SGD(lr=0.01) with parameter groups 57 weight(decay=0.0), 60 weight(decay=0.0005), 60 bias\n",
            "\u001b[34m\u001b[1malbumentations: \u001b[0mBlur(p=0.01, blur_limit=(3, 7)), MedianBlur(p=0.01, blur_limit=(3, 7)), ToGray(p=0.01), CLAHE(p=0.01, clip_limit=(1, 4.0), tile_grid_size=(8, 8))\n",
            "\u001b[34m\u001b[1mtrain: \u001b[0mScanning '/content/D/labels/training.cache' images and labels... 342 found, 0 missing, 0 empty, 0 corrupt: 100% 342/342 [00:00<?, ?it/s]\n",
            "\u001b[34m\u001b[1mval: \u001b[0mScanning '/content/D/labels/validation.cache' images and labels... 39 found, 0 missing, 0 empty, 0 corrupt: 100% 39/39 [00:00<?, ?it/s]\n",
            "\n",
            "\u001b[34m\u001b[1mAutoAnchor: \u001b[0m4.41 anchors/target, 0.999 Best Possible Recall (BPR). Current anchors are a good fit to dataset ✅\n",
            "Plotting labels to runs/train/exp6/labels.jpg... \n",
            "Image sizes 640 train, 640 val\n",
            "Using 2 dataloader workers\n",
            "Logging results to \u001b[1mruns/train/exp6\u001b[0m\n",
            "Starting training for 5 epochs...\n",
            "\n",
            "      Epoch    GPU_mem   box_loss   obj_loss   cls_loss  Instances       Size\n",
            "        0/4      3.73G     0.1062     0.0611    0.02784         37        640: 100% 22/22 [00:23<00:00,  1.08s/it]\n",
            "                 Class     Images  Instances          P          R      mAP50   mAP50-95: 100% 2/2 [00:01<00:00,  1.12it/s]\n",
            "                   all         39        176     0.0213      0.394     0.0298    0.00743\n",
            "\n",
            "      Epoch    GPU_mem   box_loss   obj_loss   cls_loss  Instances       Size\n",
            "        1/4      4.63G    0.07796    0.07521    0.02139         45        640: 100% 22/22 [00:26<00:00,  1.19s/it]\n",
            "                 Class     Images  Instances          P          R      mAP50   mAP50-95: 100% 2/2 [00:01<00:00,  1.49it/s]\n",
            "                   all         39        176      0.607      0.234        0.1     0.0345\n",
            "\n",
            "      Epoch    GPU_mem   box_loss   obj_loss   cls_loss  Instances       Size\n",
            "        2/4      4.63G    0.06637    0.07352    0.01507         37        640: 100% 22/22 [00:24<00:00,  1.13s/it]\n",
            "                 Class     Images  Instances          P          R      mAP50   mAP50-95: 100% 2/2 [00:00<00:00,  2.03it/s]\n",
            "                   all         39        176      0.569      0.192     0.0773     0.0243\n",
            "\n",
            "      Epoch    GPU_mem   box_loss   obj_loss   cls_loss  Instances       Size\n",
            "        3/4      4.63G    0.06044    0.07372    0.01128         38        640: 100% 22/22 [00:24<00:00,  1.13s/it]\n",
            "                 Class     Images  Instances          P          R      mAP50   mAP50-95: 100% 2/2 [00:00<00:00,  2.16it/s]\n",
            "                   all         39        176      0.676        0.3      0.275     0.0865\n",
            "\n",
            "      Epoch    GPU_mem   box_loss   obj_loss   cls_loss  Instances       Size\n",
            "        4/4      4.63G    0.05645    0.07413   0.009304         45        640: 100% 22/22 [00:24<00:00,  1.12s/it]\n",
            "                 Class     Images  Instances          P          R      mAP50   mAP50-95: 100% 2/2 [00:00<00:00,  2.18it/s]\n",
            "                   all         39        176      0.757      0.398      0.362      0.154\n",
            "\n",
            "5 epochs completed in 0.038 hours.\n",
            "Optimizer stripped from runs/train/exp6/weights/last.pt, 14.4MB\n",
            "Optimizer stripped from runs/train/exp6/weights/best.pt, 14.4MB\n",
            "\n",
            "Validating runs/train/exp6/weights/best.pt...\n",
            "Fusing layers... \n",
            "Model summary: 157 layers, 7015519 parameters, 0 gradients, 15.8 GFLOPs\n",
            "                 Class     Images  Instances          P          R      mAP50   mAP50-95: 100% 2/2 [00:00<00:00,  2.04it/s]\n",
            "                   all         39        176      0.758      0.398      0.362      0.155\n",
            "             with mask         39        125      0.517      0.796      0.639      0.284\n",
            "          without mask         39         51          1          0     0.0856     0.0254\n",
            "Results saved to \u001b[1mruns/train/exp6\u001b[0m\n"
          ]
        }
      ]
    },
    {
      "cell_type": "markdown",
      "source": [
        "You can download the source original images from the author site at who retain the rights on the image: https://www.pexels.com/photo/a-group-of-skaters-with-their-skateboards-on-the-sidewalk-6337382/"
      ],
      "metadata": {
        "id": "1e0BJpT4R6-Z"
      }
    }
  ]
}