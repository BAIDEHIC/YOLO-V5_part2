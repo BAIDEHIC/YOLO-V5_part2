{
  "nbformat": 4,
  "nbformat_minor": 0,
  "metadata": {
    "colab": {
      "provenance": []
    },
    "kernelspec": {
      "name": "python3",
      "display_name": "Python 3"
    },
    "language_info": {
      "name": "python"
    }
  },
  "cells": [
    {
      "cell_type": "code",
      "source": [
        "!git clone https://github.com/ultralytics/yolov5  # clone\n",
        "%cd yolov5\n",
        "%pip install -qr requirements.txt  # install\n",
        "\n",
        "import torch\n",
        "from yolov5 import utils\n",
        "display = utils.notebook_init()"
      ],
      "metadata": {
        "colab": {
          "base_uri": "https://localhost:8080/"
        },
        "id": "lTlIXch1Ii7D",
        "outputId": "bd88e793-7b01-4fca-c464-dd7106bfa561"
      },
      "execution_count": 3,
      "outputs": [
        {
          "output_type": "stream",
          "name": "stderr",
          "text": [
            "YOLOv5 🚀 v6.2-189-g2f1eb21 Python-3.7.14 torch-1.12.1+cu113 CPU\n"
          ]
        },
        {
          "output_type": "stream",
          "name": "stdout",
          "text": [
            "Setup complete ✅ (2 CPUs, 12.7 GB RAM, 22.5/107.7 GB disk)\n"
          ]
        }
      ]
    },
    {
      "cell_type": "code",
      "source": [
        "%cd .."
      ],
      "metadata": {
        "colab": {
          "base_uri": "https://localhost:8080/"
        },
        "id": "4pDce0N8I9wE",
        "outputId": "305be83e-b761-4494-f304-2206655a3897"
      },
      "execution_count": 5,
      "outputs": [
        {
          "output_type": "stream",
          "name": "stdout",
          "text": [
            "/content\n"
          ]
        }
      ]
    },
    {
      "cell_type": "code",
      "source": [
        "import shutil\n",
        "import os, sys\n",
        "\n",
        "zip_file = \"archive.zip\"\n",
        "\n",
        "if os.path.isfile(zip_file):\n",
        "  shutil.unpack_archive(zip_file, \"D\")\n",
        "else:\n",
        "  print(zip_file + \" not found\")"
      ],
      "metadata": {
        "id": "DrDMdOtsI1OU"
      },
      "execution_count": 6,
      "outputs": []
    },
    {
      "cell_type": "code",
      "source": [
        "import os, shutil, random\n",
        "\n",
        "# preparing the folder structure\n",
        "\n",
        "full_data_path = '/content/D/Victorytomato/'\n",
        "extension_allowed = '.JPG'\n",
        "split_percentage = 90\n",
        "\n",
        "images_path = 'D/images/'\n",
        "if os.path.exists(images_path):\n",
        "    shutil.rmtree(images_path)\n",
        "os.mkdir(images_path)\n",
        "    \n",
        "labels_path = 'D/labels/'\n",
        "if os.path.exists(labels_path):\n",
        "    shutil.rmtree(labels_path)\n",
        "os.mkdir(labels_path)\n",
        "    \n",
        "training_images_path = images_path + 'training/'\n",
        "validation_images_path = images_path + 'validation/'\n",
        "training_labels_path = labels_path + 'training/'\n",
        "validation_labels_path = labels_path +'validation/'\n",
        "    \n",
        "os.mkdir(training_images_path)\n",
        "os.mkdir(validation_images_path)\n",
        "os.mkdir(training_labels_path)\n",
        "os.mkdir(validation_labels_path)\n",
        "\n",
        "files = []\n",
        "\n",
        "ext_len = len(extension_allowed)\n",
        "\n",
        "for r, d, f in os.walk(full_data_path):\n",
        "    for file in f:\n",
        "        if file.endswith(extension_allowed):\n",
        "            strip = file[0:len(file) - ext_len]      \n",
        "            files.append(strip)\n",
        "\n",
        "random.shuffle(files)\n",
        "\n",
        "size = len(files)                   \n",
        "\n",
        "split = int(split_percentage * size / 100)\n",
        "\n",
        "print(\"copying training data\")\n",
        "for i in range(split):\n",
        "    strip = files[i]\n",
        "    try:                     \n",
        "      image_file = strip + extension_allowed\n",
        "      src_image = full_data_path + image_file\n",
        "      shutil.copy(src_image, training_images_path) \n",
        "                          \n",
        "      annotation_file = strip + '.txt'\n",
        "      src_label = full_data_path + annotation_file\n",
        "      shutil.copy(src_label, training_labels_path) \n",
        "    except:\n",
        "      pass\n",
        "\n",
        "print(\"copying validation data\")\n",
        "for i in range(split, size):\n",
        "    strip = files[i]\n",
        "    try:                     \n",
        "      image_file = strip + extension_allowed\n",
        "      src_image = full_data_path + image_file\n",
        "      shutil.copy(src_image, validation_images_path) \n",
        "                          \n",
        "      annotation_file = strip + '.txt'\n",
        "      src_label = full_data_path + annotation_file\n",
        "      shutil.copy(src_label, validation_labels_path) \n",
        "    except:\n",
        "      pass\n",
        "\n",
        "print(\"finished\")"
      ],
      "metadata": {
        "colab": {
          "base_uri": "https://localhost:8080/"
        },
        "id": "wC4-7_OOI7lk",
        "outputId": "ecfaa98b-e279-4abf-f962-eebe3326e621"
      },
      "execution_count": 9,
      "outputs": [
        {
          "output_type": "stream",
          "name": "stdout",
          "text": [
            "copying training data\n",
            "copying validation data\n",
            "finished\n"
          ]
        }
      ]
    },
    {
      "cell_type": "code",
      "source": [
        "f = open(\"dataset.yaml\", \"a\")\n",
        "\n",
        "f.write(\"train: /content/D/images/training/\\n\")\n",
        "f.write(\"val: /content/D/images/validation/\\n\")\n",
        "f.write(\"nc: 2\\n\")\n",
        "f.write(\"names: ['with leaf', 'without leaf']\\n\")\n",
        "f.close()"
      ],
      "metadata": {
        "id": "ZdkP0Q3pJOK0"
      },
      "execution_count": 10,
      "outputs": []
    },
    {
      "cell_type": "code",
      "source": [
        "%cd yolov5\n",
        "!python train.py --img 640 --batch 16 --epochs 5 --data ../dataset.yaml --weights yolov5s.pt"
      ],
      "metadata": {
        "colab": {
          "base_uri": "https://localhost:8080/"
        },
        "id": "HaxZ8f1hJ-8s",
        "outputId": "91619c2d-b501-477b-f762-90aa171cf45f"
      },
      "execution_count": 11,
      "outputs": [
        {
          "output_type": "stream",
          "name": "stdout",
          "text": [
            "/content/yolov5\n",
            "\u001b[34m\u001b[1mtrain: \u001b[0mweights=yolov5s.pt, cfg=, data=../dataset.yaml, hyp=data/hyps/hyp.scratch-low.yaml, epochs=5, batch_size=16, imgsz=640, rect=False, resume=False, nosave=False, noval=False, noautoanchor=False, noplots=False, evolve=None, bucket=, cache=None, image_weights=False, device=, multi_scale=False, single_cls=False, optimizer=SGD, sync_bn=False, workers=8, project=runs/train, name=exp, exist_ok=False, quad=False, cos_lr=False, label_smoothing=0.0, patience=100, freeze=[0], save_period=-1, seed=0, local_rank=-1, entity=None, upload_dataset=False, bbox_interval=-1, artifact_alias=latest\n",
            "\u001b[34m\u001b[1mgithub: \u001b[0mup to date with https://github.com/ultralytics/yolov5 ✅\n",
            "YOLOv5 🚀 v6.2-189-g2f1eb21 Python-3.7.14 torch-1.12.1+cu113 CPU\n",
            "\n",
            "\u001b[34m\u001b[1mhyperparameters: \u001b[0mlr0=0.01, lrf=0.01, momentum=0.937, weight_decay=0.0005, warmup_epochs=3.0, warmup_momentum=0.8, warmup_bias_lr=0.1, box=0.05, cls=0.5, cls_pw=1.0, obj=1.0, obj_pw=1.0, iou_t=0.2, anchor_t=4.0, fl_gamma=0.0, hsv_h=0.015, hsv_s=0.7, hsv_v=0.4, degrees=0.0, translate=0.1, scale=0.5, shear=0.0, perspective=0.0, flipud=0.0, fliplr=0.5, mosaic=1.0, mixup=0.0, copy_paste=0.0\n",
            "\u001b[34m\u001b[1mWeights & Biases: \u001b[0mrun 'pip install wandb' to automatically track and visualize YOLOv5 🚀 runs in Weights & Biases\n",
            "\u001b[34m\u001b[1mClearML: \u001b[0mrun 'pip install clearml' to automatically track, visualize and remotely train YOLOv5 🚀 in ClearML\n",
            "\u001b[34m\u001b[1mComet: \u001b[0mrun 'pip install comet_ml' to automatically track and visualize YOLOv5 🚀 runs in Comet\n",
            "\u001b[34m\u001b[1mTensorBoard: \u001b[0mStart with 'tensorboard --logdir runs/train', view at http://localhost:6006/\n",
            "Downloading https://github.com/ultralytics/yolov5/releases/download/v6.2/yolov5s.pt to yolov5s.pt...\n",
            "100% 14.1M/14.1M [00:00<00:00, 52.3MB/s]\n",
            "\n",
            "Overriding model.yaml nc=80 with nc=2\n",
            "\n",
            "                 from  n    params  module                                  arguments                     \n",
            "  0                -1  1      3520  models.common.Conv                      [3, 32, 6, 2, 2]              \n",
            "  1                -1  1     18560  models.common.Conv                      [32, 64, 3, 2]                \n",
            "  2                -1  1     18816  models.common.C3                        [64, 64, 1]                   \n",
            "  3                -1  1     73984  models.common.Conv                      [64, 128, 3, 2]               \n",
            "  4                -1  2    115712  models.common.C3                        [128, 128, 2]                 \n",
            "  5                -1  1    295424  models.common.Conv                      [128, 256, 3, 2]              \n",
            "  6                -1  3    625152  models.common.C3                        [256, 256, 3]                 \n",
            "  7                -1  1   1180672  models.common.Conv                      [256, 512, 3, 2]              \n",
            "  8                -1  1   1182720  models.common.C3                        [512, 512, 1]                 \n",
            "  9                -1  1    656896  models.common.SPPF                      [512, 512, 5]                 \n",
            " 10                -1  1    131584  models.common.Conv                      [512, 256, 1, 1]              \n",
            " 11                -1  1         0  torch.nn.modules.upsampling.Upsample    [None, 2, 'nearest']          \n",
            " 12           [-1, 6]  1         0  models.common.Concat                    [1]                           \n",
            " 13                -1  1    361984  models.common.C3                        [512, 256, 1, False]          \n",
            " 14                -1  1     33024  models.common.Conv                      [256, 128, 1, 1]              \n",
            " 15                -1  1         0  torch.nn.modules.upsampling.Upsample    [None, 2, 'nearest']          \n",
            " 16           [-1, 4]  1         0  models.common.Concat                    [1]                           \n",
            " 17                -1  1     90880  models.common.C3                        [256, 128, 1, False]          \n",
            " 18                -1  1    147712  models.common.Conv                      [128, 128, 3, 2]              \n",
            " 19          [-1, 14]  1         0  models.common.Concat                    [1]                           \n",
            " 20                -1  1    296448  models.common.C3                        [256, 256, 1, False]          \n",
            " 21                -1  1    590336  models.common.Conv                      [256, 256, 3, 2]              \n",
            " 22          [-1, 10]  1         0  models.common.Concat                    [1]                           \n",
            " 23                -1  1   1182720  models.common.C3                        [512, 512, 1, False]          \n",
            " 24      [17, 20, 23]  1     18879  models.yolo.Detect                      [2, [[10, 13, 16, 30, 33, 23], [30, 61, 62, 45, 59, 119], [116, 90, 156, 198, 373, 326]], [128, 256, 512]]\n",
            "Model summary: 214 layers, 7025023 parameters, 7025023 gradients, 16.0 GFLOPs\n",
            "\n",
            "Transferred 343/349 items from yolov5s.pt\n",
            "\u001b[34m\u001b[1moptimizer:\u001b[0m SGD(lr=0.01) with parameter groups 57 weight(decay=0.0), 60 weight(decay=0.0005), 60 bias\n",
            "\u001b[34m\u001b[1malbumentations: \u001b[0mBlur(p=0.01, blur_limit=(3, 7)), MedianBlur(p=0.01, blur_limit=(3, 7)), ToGray(p=0.01), CLAHE(p=0.01, clip_limit=(1, 4.0), tile_grid_size=(8, 8))\n",
            "\u001b[34m\u001b[1mtrain: \u001b[0mScanning '/content/D/labels/training' images and labels...342 found, 1 missing, 0 empty, 0 corrupt: 100% 343/343 [00:00<00:00, 565.14it/s]\n",
            "\u001b[34m\u001b[1mtrain: \u001b[0mNew cache created: /content/D/labels/training.cache\n",
            "\u001b[34m\u001b[1mval: \u001b[0mScanning '/content/D/labels/validation' images and labels...39 found, 0 missing, 0 empty, 0 corrupt: 100% 39/39 [00:00<00:00, 273.20it/s]\n",
            "\u001b[34m\u001b[1mval: \u001b[0mNew cache created: /content/D/labels/validation.cache\n",
            "\n",
            "\u001b[34m\u001b[1mAutoAnchor: \u001b[0m4.40 anchors/target, 0.999 Best Possible Recall (BPR). Current anchors are a good fit to dataset ✅\n",
            "Plotting labels to runs/train/exp/labels.jpg... \n",
            "Image sizes 640 train, 640 val\n",
            "Using 2 dataloader workers\n",
            "Logging results to \u001b[1mruns/train/exp\u001b[0m\n",
            "Starting training for 5 epochs...\n",
            "\n",
            "      Epoch    GPU_mem   box_loss   obj_loss   cls_loss  Instances       Size\n",
            "        0/4         0G      0.107    0.05986    0.02824         46        640: 100% 22/22 [07:36<00:00, 20.75s/it]\n",
            "                 Class     Images  Instances          P          R      mAP50   mAP50-95:   0% 0/2 [00:00<?, ?it/s]WARNING ⚠️ NMS time limit 2.100s exceeded\n",
            "                 Class     Images  Instances          P          R      mAP50   mAP50-95:  50% 1/2 [00:15<00:15, 15.95s/it]WARNING ⚠️ NMS time limit 0.850s exceeded\n",
            "                 Class     Images  Instances          P          R      mAP50   mAP50-95: 100% 2/2 [00:19<00:00,  9.65s/it]\n",
            "                   all         39        186     0.0119      0.207     0.0213    0.00504\n",
            "\n",
            "      Epoch    GPU_mem   box_loss   obj_loss   cls_loss  Instances       Size\n",
            "        1/4         0G    0.07838     0.0751    0.02127         65        640: 100% 22/22 [07:27<00:00, 20.35s/it]\n",
            "                 Class     Images  Instances          P          R      mAP50   mAP50-95:   0% 0/2 [00:00<?, ?it/s]WARNING ⚠️ NMS time limit 2.100s exceeded\n",
            "                 Class     Images  Instances          P          R      mAP50   mAP50-95: 100% 2/2 [00:19<00:00,  9.61s/it]\n",
            "                   all         39        186      0.607      0.198     0.0701     0.0248\n",
            "\n",
            "      Epoch    GPU_mem   box_loss   obj_loss   cls_loss  Instances       Size\n",
            "        2/4         0G    0.06592     0.0734    0.01516         69        640: 100% 22/22 [07:28<00:00, 20.38s/it]\n",
            "                 Class     Images  Instances          P          R      mAP50   mAP50-95: 100% 2/2 [00:18<00:00,  9.05s/it]\n",
            "                   all         39        186      0.626      0.221      0.147     0.0453\n",
            "\n",
            "      Epoch    GPU_mem   box_loss   obj_loss   cls_loss  Instances       Size\n",
            "        3/4         0G     0.0604    0.07448    0.01151         69        640: 100% 22/22 [07:28<00:00, 20.40s/it]\n",
            "                 Class     Images  Instances          P          R      mAP50   mAP50-95: 100% 2/2 [00:17<00:00,  8.78s/it]\n",
            "                   all         39        186      0.724       0.26      0.272     0.0936\n",
            "\n",
            "      Epoch    GPU_mem   box_loss   obj_loss   cls_loss  Instances       Size\n",
            "        4/4         0G    0.05605    0.07319   0.009864         47        640: 100% 22/22 [07:24<00:00, 20.19s/it]\n",
            "                 Class     Images  Instances          P          R      mAP50   mAP50-95: 100% 2/2 [00:17<00:00,  8.63s/it]\n",
            "                   all         39        186      0.695      0.374      0.298       0.14\n",
            "\n",
            "5 epochs completed in 0.650 hours.\n",
            "Optimizer stripped from runs/train/exp/weights/last.pt, 14.4MB\n",
            "Optimizer stripped from runs/train/exp/weights/best.pt, 14.4MB\n",
            "\n",
            "Validating runs/train/exp/weights/best.pt...\n",
            "Fusing layers... \n",
            "Model summary: 157 layers, 7015519 parameters, 0 gradients, 15.8 GFLOPs\n",
            "                 Class     Images  Instances          P          R      mAP50   mAP50-95: 100% 2/2 [00:17<00:00,  8.65s/it]\n",
            "                   all         39        186      0.696       0.38      0.298       0.14\n",
            "             with leaf         39        129      0.392       0.76      0.549       0.27\n",
            "          without leaf         39         57          1          0     0.0473     0.0105\n",
            "Results saved to \u001b[1mruns/train/exp\u001b[0m\n"
          ]
        }
      ]
    },
    {
      "cell_type": "code",
      "source": [],
      "metadata": {
        "id": "QaUR-_V2KECT"
      },
      "execution_count": null,
      "outputs": []
    }
  ]
}